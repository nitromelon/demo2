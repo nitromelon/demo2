{
 "cells": [
  {
   "cell_type": "code",
   "execution_count": null,
   "metadata": {},
   "outputs": [],
   "source": [
    "import os\n",
    "# run npx hardhat compile, then npx hardhat run .\\ignition\\modules\\Deploy.ts --network geth > result.txt\n",
    "print(os.system(\"npx hardhat compile\") == 0)\n",
    "\n",
    "# This command may fail. Run manually if it does.\n",
    "print(os.system(\"npx hardhat run ./ignition/modules/Deploy.ts --network geth > result.txt\") == 0)"
   ]
  },
  {
   "cell_type": "code",
   "execution_count": null,
   "metadata": {},
   "outputs": [],
   "source": [
    "file = \"result.txt\"\n",
    "address = \"\"\n",
    "with open(file) as f:\n",
    "    while True:\n",
    "        address = f.readline().strip()\n",
    "        if address:\n",
    "            break\n",
    "\n",
    "print(address)"
   ]
  },
  {
   "cell_type": "code",
   "execution_count": null,
   "metadata": {},
   "outputs": [],
   "source": [
    "env_file = \"../.env\"\n",
    "with open(env_file, \"r\") as f:\n",
    "    env = f.readlines()\n",
    "\n",
    "env_vars = dict(\n",
    "    line.strip().split(\"=\", 1)\n",
    "    for line in env\n",
    "    if line.strip() and not line.strip().startswith(\"#\")\n",
    ")\n",
    "\n",
    "env_vars[\"GETH_SMART_CONTRACT_ACCOUNT_PUBLIC_ADDRESS\"] = address\n",
    "with open(env_file, \"w\") as f:\n",
    "    f.writelines(f\"{k}={v}\\n\" for k, v in env_vars.items())"
   ]
  },
  {
   "cell_type": "code",
   "execution_count": null,
   "metadata": {},
   "outputs": [],
   "source": [
    "# Test, but you should manually run the test\n",
    "os.system(\"npx hardhat run ./test/Purchase.ts --network geth\")"
   ]
  }
 ],
 "metadata": {
  "kernelspec": {
   "display_name": ".venv",
   "language": "python",
   "name": "python3"
  },
  "language_info": {
   "codemirror_mode": {
    "name": "ipython",
    "version": 3
   },
   "file_extension": ".py",
   "mimetype": "text/x-python",
   "name": "python",
   "nbconvert_exporter": "python",
   "pygments_lexer": "ipython3",
   "version": "3.12.2"
  }
 },
 "nbformat": 4,
 "nbformat_minor": 2
}
