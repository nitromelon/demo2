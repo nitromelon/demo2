{
 "cells": [
  {
   "cell_type": "markdown",
   "metadata": {},
   "source": [
    "# Redis setup\n",
    "\n",
    "This is script to setup Redis.\n",
    "\n",
    "## Port\n",
    "\n",
    "- 8001 -> RedisInsight\n",
    "- 6379 -> Redis\n"
   ]
  },
  {
   "cell_type": "code",
   "execution_count": null,
   "metadata": {},
   "outputs": [],
   "source": [
    "import os\n",
    "\n",
    "result = os.system(\"docker run -d --name inno_redis -p 6379:6379 -p 8001:8001 redis/redis-stack:latest\")\n",
    "if result == 0:\n",
    "    print(\"Redis Stack started successfully\")\n",
    "else:\n",
    "    print(\"Redis Stack failed to start\")\n",
    "    exit(1)"
   ]
  }
 ],
 "metadata": {
  "kernelspec": {
   "display_name": ".venv",
   "language": "python",
   "name": "python3"
  },
  "language_info": {
   "codemirror_mode": {
    "name": "ipython",
    "version": 3
   },
   "file_extension": ".py",
   "mimetype": "text/x-python",
   "name": "python",
   "nbconvert_exporter": "python",
   "pygments_lexer": "ipython3",
   "version": "3.12.2"
  }
 },
 "nbformat": 4,
 "nbformat_minor": 2
}
