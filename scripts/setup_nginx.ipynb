{
 "cells": [
  {
   "cell_type": "markdown",
   "metadata": {},
   "source": [
    "# NGINX + HTTPS + HTTP3 Setup\n",
    "\n",
    "This is a guide to setup NGINX with HTTPS and HTTP3 support.\n",
    "\n",
    "## VERY IMPORTANT NOTE\n",
    "\n",
    "You have to run the following commands in the terminal. These commands are not meant to be run in the notebook. Thank you.\n",
    "Anyway when there has issues with cert key, yeah it's a self-signed certificate, you can ignore it. Also, delete cert volume if needed.\n"
   ]
  },
  {
   "cell_type": "code",
   "execution_count": null,
   "metadata": {},
   "outputs": [],
   "source": [
    "# Import necessary libraries\n",
    "import os"
   ]
  },
  {
   "cell_type": "code",
   "execution_count": null,
   "metadata": {},
   "outputs": [],
   "source": [
    "# Change the current working directory to the directory of the script\n",
    "os.chdir('./nginx')"
   ]
  },
  {
   "cell_type": "code",
   "execution_count": null,
   "metadata": {},
   "outputs": [],
   "source": [
    "# Run the script\n",
    "os.system(\"docker compose up --build --wait\")"
   ]
  },
  {
   "cell_type": "code",
   "execution_count": null,
   "metadata": {},
   "outputs": [],
   "source": [
    "# Shutdown\n",
    "os.system('docker-compose down -v')"
   ]
  },
  {
   "cell_type": "code",
   "execution_count": null,
   "metadata": {},
   "outputs": [],
   "source": [
    "# Delete the volume\n",
    "os.system(\"docker volume rm nginx_nginx_conf nginx_cert\")"
   ]
  },
  {
   "cell_type": "code",
   "execution_count": null,
   "metadata": {},
   "outputs": [],
   "source": [
    "# Remove the images\n",
    "os.system(\"docker rmi nginx-inno_nginx\")"
   ]
  }
 ],
 "metadata": {
  "kernelspec": {
   "display_name": ".venv",
   "language": "python",
   "name": "python3"
  },
  "language_info": {
   "codemirror_mode": {
    "name": "ipython",
    "version": 3
   },
   "file_extension": ".py",
   "mimetype": "text/x-python",
   "name": "python",
   "nbconvert_exporter": "python",
   "pygments_lexer": "ipython3",
   "version": "3.12.2"
  }
 },
 "nbformat": 4,
 "nbformat_minor": 2
}
