{
 "cells": [
  {
   "cell_type": "markdown",
   "metadata": {},
   "source": [
    "# Geth Docker Setup\n",
    "For Geth, we will have to run this script first then run docker compose file later.\n",
    "\n",
    "## Todo\n",
    "\n",
    "- [ ] Know why this works lol!!!"
   ]
  },
  {
   "cell_type": "code",
   "execution_count": null,
   "metadata": {},
   "outputs": [],
   "source": [
    "import os\n",
    "\n",
    "path = os.path.abspath(\"\")\n",
    "print(path)\n",
    "\n",
    "store_path = os.path.join(path, \"geth/\")\n",
    "print(store_path)\n",
    "\n",
    "env_path = os.path.abspath(os.path.join(path, \"..\"))\n",
    "print(env_path)"
   ]
  },
  {
   "cell_type": "code",
   "execution_count": null,
   "metadata": {},
   "outputs": [],
   "source": [
    "# Get \"GETH_NETWORK_ID\" and \"GETH_NETWORK_NAME\" from .env file\n",
    "import dotenv\n",
    "\n",
    "env_file = os.path.join(env_path, \".env\")\n",
    "print(env_file)\n",
    "\n",
    "dotenv.load_dotenv(env_file)\n",
    "\n",
    "network_id = os.getenv(\"GETH_NETWORK_ID\")\n",
    "network_acc = os.getenv(\"GETH_ACCOUNT_PASSWORD\")\n",
    "\n",
    "if network_id is None or network_acc is None:\n",
    "    raise Exception(\"GETH_NETWORK_ID or GETH_NETWORK_NAME is not set\")\n",
    "\n",
    "print(network_id)\n",
    "print(network_acc)"
   ]
  },
  {
   "cell_type": "code",
   "execution_count": null,
   "metadata": {},
   "outputs": [],
   "source": [
    "# Copy to .env inside store_path (create if not exists)\n",
    "import shutil\n",
    "\n",
    "store_env_file = os.path.join(store_path, \".env\")\n",
    "print(store_env_file)\n",
    "\n",
    "shutil.copy(env_file, store_env_file)"
   ]
  }
 ],
 "metadata": {
  "kernelspec": {
   "display_name": ".venv",
   "language": "python",
   "name": "python3"
  },
  "language_info": {
   "codemirror_mode": {
    "name": "ipython",
    "version": 3
   },
   "file_extension": ".py",
   "mimetype": "text/x-python",
   "name": "python",
   "nbconvert_exporter": "python",
   "pygments_lexer": "ipython3",
   "version": "3.12.2"
  }
 },
 "nbformat": 4,
 "nbformat_minor": 2
}
