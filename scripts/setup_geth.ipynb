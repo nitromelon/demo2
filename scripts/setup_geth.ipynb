{
 "cells": [
  {
   "cell_type": "markdown",
   "metadata": {},
   "source": [
    "# Geth Docker Setup\n",
    "Not done yet lol!!!"
   ]
  },
  {
   "cell_type": "code",
   "execution_count": 3,
   "metadata": {},
   "outputs": [
    {
     "name": "stdout",
     "output_type": "stream",
     "text": [
      "d:\\Project\\swinburne\\inno\\backend_project\\demo2\\scripts\n",
      "d:\\Project\\swinburne\\inno\\backend_project\\demo2\\scripts\\geth/storage\n"
     ]
    }
   ],
   "source": [
    "import os\n",
    "\n",
    "path = os.path.abspath(\"\")\n",
    "print(path)\n",
    "\n",
    "store_path = os.path.join(path, \"geth/storage\")\n",
    "os.makedirs(store_path, exist_ok=True)\n",
    "\n",
    "print(store_path)"
   ]
  },
  {
   "cell_type": "code",
   "execution_count": 8,
   "metadata": {},
   "outputs": [
    {
     "name": "stdout",
     "output_type": "stream",
     "text": [
      "Error starting docker container\n"
     ]
    }
   ],
   "source": [
    "# Command: docker run -it -p 0.0.0.0:8545:8545 -v C:\\geth:/home ethereum/client-go:alltools-stable\n",
    "result = os.system(f\"docker run -it -p 0.0.0.0:8545:8545 -v {store_path}:/home ethereum/client-go:alltools-stable\")\n",
    "if result != 0:\n",
    "    print(\"Error starting docker container\")\n",
    "    exit(1)"
   ]
  }
 ],
 "metadata": {
  "kernelspec": {
   "display_name": ".venv",
   "language": "python",
   "name": "python3"
  },
  "language_info": {
   "codemirror_mode": {
    "name": "ipython",
    "version": 3
   },
   "file_extension": ".py",
   "mimetype": "text/x-python",
   "name": "python",
   "nbconvert_exporter": "python",
   "pygments_lexer": "ipython3",
   "version": "3.12.2"
  }
 },
 "nbformat": 4,
 "nbformat_minor": 2
}
