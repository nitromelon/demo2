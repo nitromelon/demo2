{
 "cells": [
  {
   "cell_type": "markdown",
   "metadata": {},
   "source": [
    "# Geth Docker Setup\n",
    "For Geth, we will have to run this script first then run docker compose file later.\n"
   ]
  },
  {
   "cell_type": "code",
   "execution_count": null,
   "metadata": {},
   "outputs": [],
   "source": [
    "import os\n",
    "\n",
    "path = os.path.abspath(\"\")\n",
    "print(path)\n",
    "\n",
    "store_path = os.path.join(path, \"geth/\")\n",
    "print(store_path)\n",
    "\n",
    "env_path = os.path.abspath(os.path.join(path, \"..\"))\n",
    "print(env_path)"
   ]
  },
  {
   "cell_type": "code",
   "execution_count": null,
   "metadata": {},
   "outputs": [],
   "source": [
    "# Get \"GETH_NETWORK_ID\" and \"GETH_NETWORK_NAME\" from .env file\n",
    "import dotenv\n",
    "\n",
    "env_file = os.path.join(env_path, \".env\")\n",
    "print(env_file)\n",
    "\n",
    "dotenv.load_dotenv(env_file)\n",
    "\n",
    "network_id = os.getenv(\"GETH_NETWORK_ID\")\n",
    "network_acc = os.getenv(\"GETH_ACCOUNT_PASSWORD\")\n",
    "\n",
    "if network_id is None or network_acc is None:\n",
    "    raise Exception(\"GETH_NETWORK_ID or GETH_NETWORK_NAME is not set\")\n",
    "\n",
    "print(network_id)\n",
    "print(network_acc)"
   ]
  },
  {
   "cell_type": "code",
   "execution_count": null,
   "metadata": {},
   "outputs": [],
   "source": [
    "# Copy to .env inside store_path (create if not exists)\n",
    "import shutil\n",
    "\n",
    "store_env_file = os.path.join(store_path, \".env\")\n",
    "print(store_env_file)\n",
    "\n",
    "shutil.copy(env_file, store_env_file)"
   ]
  },
  {
   "cell_type": "markdown",
   "metadata": {},
   "source": [
    "## This one is command after running the script\n",
    "\n",
    "And then you decrypt the file using password defined in the .env file."
   ]
  },
  {
   "cell_type": "code",
   "execution_count": null,
   "metadata": {},
   "outputs": [],
   "source": [
    "# docker cp mycontainer:/root/.ethereum/keystore ./keystore\n",
    "container_name = \"geth-geth-bootnode-1\"\n",
    "container_keystore = \"/root/.ethereum/keystore\"\n",
    "\n",
    "os.system(f\"docker cp {container_name}:{container_keystore} {store_path}\")"
   ]
  },
  {
   "cell_type": "code",
   "execution_count": null,
   "metadata": {},
   "outputs": [],
   "source": [
    "# check if store_path/keystore exists, else skip this step\n",
    "import json\n",
    "import web3\n",
    "\n",
    "keystore_path = os.path.join(store_path, \"keystore\")\n",
    "\n",
    "if not os.path.exists(keystore_path):\n",
    "    raise Exception(\"Keystore path does not exist\")\n",
    "\n",
    "keystore_files = os.listdir(keystore_path)\n",
    "\n",
    "if len(keystore_files) > 1:\n",
    "    raise Exception(\"More than 1 keystore file found\")\n",
    "\n",
    "keystore_file = keystore_files[0]\n",
    "with open(os.path.join(keystore_path, keystore_file)) as f:\n",
    "    keystore = json.load(f)\n",
    "    print(f\"Public address: 0x{keystore['address']}\")\n",
    "    password = os.getenv(\"GETH_ACCOUNT_PASSWORD\")\n",
    "    private_key = web3.Account.decrypt(keystore, password)\n",
    "    print(f\"Private key: {private_key.hex()}\")"
   ]
  },
  {
   "cell_type": "code",
   "execution_count": null,
   "metadata": {},
   "outputs": [],
   "source": [
    "# Read .env file and split into lines\n",
    "with open(env_file, \"r\") as f:\n",
    "    lines = f.readlines()\n",
    "\n",
    "# Create a dictionary of existing environment variables\n",
    "env_vars = dict(line.strip().split(\"=\", 1) for line in lines if line.strip() and not line.strip().startswith(\"#\"))\n",
    "\n",
    "# Update the values\n",
    "env_vars[\"GETH_ACCOUNT_PUBLIC_KEY\"] = f'0x{keystore[\"address\"]}'\n",
    "env_vars[\"GETH_ACCOUNT_PRIVATE_KEY\"] = private_key.hex()\n",
    "\n",
    "# Write the updated environment variables back to the .env file\n",
    "with open(env_file, \"w\") as f:\n",
    "    f.writelines(f\"{k}={v}\\n\" for k, v in env_vars.items())"
   ]
  }
 ],
 "metadata": {
  "kernelspec": {
   "display_name": ".venv",
   "language": "python",
   "name": "python3"
  },
  "language_info": {
   "codemirror_mode": {
    "name": "ipython",
    "version": 3
   },
   "file_extension": ".py",
   "mimetype": "text/x-python",
   "name": "python",
   "nbconvert_exporter": "python",
   "pygments_lexer": "ipython3",
   "version": "3.12.2"
  }
 },
 "nbformat": 4,
 "nbformat_minor": 2
}
