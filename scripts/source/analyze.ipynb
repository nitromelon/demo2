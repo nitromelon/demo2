{
 "cells": [
  {
   "cell_type": "markdown",
   "metadata": {},
   "source": [
    "# Setup image and stuff\n",
    "\n",
    "Run the first block, then skip till the next markdown cell."
   ]
  },
  {
   "cell_type": "code",
   "execution_count": null,
   "metadata": {},
   "outputs": [],
   "source": [
    "# Read Luxury_Products_Apparel_Data.csv\n",
    "import os\n",
    "import csv\n",
    "\n",
    "path = os.path.join(\".\", \"Luxury_Products_Apparel_Data.csv\")\n",
    "print(path)\n",
    "\n",
    "header: list[str] = []\n",
    "array: list[list[str]] = []\n",
    "\n",
    "with open(path, 'r', encoding=\"UTF-8\") as csvfile:\n",
    "    csvreader = csv.reader(csvfile, delimiter=\",\")\n",
    "    header = next(csvreader)\n",
    "    header[0] = \"id\"\n",
    "    for row in csvreader:\n",
    "        array.append(row)\n",
    "\n",
    "# sort by first column\n",
    "array.sort(key=lambda x: int(x[0]))"
   ]
  },
  {
   "cell_type": "code",
   "execution_count": null,
   "metadata": {},
   "outputs": [],
   "source": [
    "print(\"Before: \", len(array))\n",
    "\n",
    "# Remove row has empty string in any column\n",
    "array = [row for row in array if all(row)]\n",
    "\n",
    "# Remove third column\n",
    "header = header[:2] + header[3:]\n",
    "array = [row[:2] + row[3:] for row in array]\n",
    "\n",
    "# Remove the '\"'\n",
    "array = [[cell.replace('\"', '') for cell in row] for row in array]\n",
    "\n",
    "# print count of rows\n",
    "print(\"After: \", len(array))"
   ]
  },
  {
   "cell_type": "code",
   "execution_count": null,
   "metadata": {},
   "outputs": [],
   "source": [
    "# Show header\n",
    "print(header)\n",
    "\n",
    "# Show first 5 rows\n",
    "for i in range(5):\n",
    "    print(array[i])"
   ]
  },
  {
   "cell_type": "code",
   "execution_count": null,
   "metadata": {},
   "outputs": [],
   "source": [
    "# Filter similarity\n",
    "from difflib import SequenceMatcher\n",
    "\n",
    "\n",
    "percent = 0.4\n",
    "def similarity(a: str, b: str) -> float:\n",
    "    return SequenceMatcher(None, a, b).ratio()\n",
    "\n",
    "\n",
    "# Remove the similar rows (Very time consuming: 29m 32s)\n",
    "i = 0\n",
    "j = 0\n",
    "while i < len(array):\n",
    "    j = i + 1\n",
    "    while j < len(array):\n",
    "        if similarity(array[i][3], array[j][3]) > percent:\n",
    "            print(array[i][3], \"\\n\", array[j][3], \"\\n\", similarity(array[i][3], array[j][3]))\n",
    "            print(\"=> Remove: \", array[j][3])\n",
    "            print()\n",
    "            array.pop(j)\n",
    "        else:\n",
    "            j += 1\n",
    "    i += 1\n",
    "\n",
    "# print count of rows\n",
    "print(\"After: \", len(array))"
   ]
  },
  {
   "cell_type": "code",
   "execution_count": null,
   "metadata": {},
   "outputs": [],
   "source": [
    "# Add url column in array, add to array2\n",
    "source = \"https://source.unsplash.com/random/900×900/?\"\n",
    "array2 = [[source + row[1]] + row for row in array]\n",
    "print(len(array2))\n",
    "for i in array2:\n",
    "    print(i)"
   ]
  },
  {
   "cell_type": "code",
   "execution_count": null,
   "metadata": {},
   "outputs": [],
   "source": [
    "# Export to csv the array2. This is a checkpoint due to the time consuming of the similarity filter\n",
    "path2 = os.path.join(\".\", \"modified_Luxury_Products_Apparel_Data.csv\")\n",
    "# with open(path2, 'w', newline='', encoding=\"UTF-8\") as csvfile:\n",
    "#     csvwriter = csv.writer(csvfile)\n",
    "#     csvwriter.writerow([\"url\"] + header)\n",
    "#     for row in array2:\n",
    "#         csvwriter.writerow(row)\n",
    "\n",
    "print(\"Exported to \", path2)"
   ]
  },
  {
   "cell_type": "markdown",
   "metadata": {},
   "source": [
    "# Ok stop scrolling.\n",
    "\n",
    "Run blocks bellow"
   ]
  },
  {
   "cell_type": "code",
   "execution_count": null,
   "metadata": {},
   "outputs": [],
   "source": [
    "# import the modified csv, write into array2\n",
    "array2 = []\n",
    "with open(path2, 'r', encoding=\"UTF-8\") as csvfile:\n",
    "    csvreader = csv.reader(csvfile, delimiter=\",\")\n",
    "    header = next(csvreader)\n",
    "    for row in csvreader:\n",
    "        array2.append(row)"
   ]
  },
  {
   "cell_type": "code",
   "execution_count": null,
   "metadata": {},
   "outputs": [],
   "source": [
    "# make a folder and images, download the images from the url, change the name to id.jpg\n",
    "# import requests\n",
    "# import shutil\n",
    "\n",
    "os.makedirs(\"images\", exist_ok=True)\n",
    "\n",
    "# Yes I use single thread, because I don't want to get banned from the source teehee\n",
    "# for row in array2:\n",
    "#     url = row[0]\n",
    "#     response = requests.get(url, stream=True)\n",
    "#     with open(f\"images\" + \"/\" + row[1] + \".jpg\", 'wb') as out_file:\n",
    "#         shutil.copyfileobj(response.raw, out_file)\n",
    "#     print(\"Downloaded: \", row[1])\n",
    "\n",
    "# async multi-threading download version (not recommended)\n",
    "import asyncio\n",
    "import aiohttp\n",
    "\n",
    "# Create a semaphore with a limit of 50 concurrent downloads\n",
    "semaphore = asyncio.Semaphore(50)\n",
    "\n",
    "async def download_image(session, url: str, id: str):\n",
    "    async with semaphore:\n",
    "        async with session.get(url) as response:\n",
    "            with open(f\"images\" + \"/\" + id + \".jpg\", \"wb\") as out_file:\n",
    "                out_file.write(await response.read())\n",
    "            print(\"Downloaded: \", id)\n",
    "\n",
    "\n",
    "async def main():\n",
    "    # Create a single aiohttp.ClientSession\n",
    "    async with aiohttp.ClientSession() as session:\n",
    "        # Create tasks for all downloads\n",
    "        tasks = [download_image(session, row[0], row[1]) for row in array2]\n",
    "\n",
    "        # Use asyncio.gather to run all tasks concurrently\n",
    "        await asyncio.gather(*tasks)\n",
    "\n",
    "\n",
    "# Run the main function\n",
    "await main()"
   ]
  },
  {
   "cell_type": "code",
   "execution_count": null,
   "metadata": {},
   "outputs": [],
   "source": [
    "# Create modified_images folder, crop image to square in the center both horizontally and vertically\n",
    "from PIL import Image\n",
    "\n",
    "os.makedirs(\"modified_images\", exist_ok=True)\n",
    "\n",
    "for row in array2:\n",
    "    img = Image.open(f\"images/{row[1]}.jpg\")\n",
    "    width, height = img.size\n",
    "    if width > height:\n",
    "        left = (width - height) / 2\n",
    "        right = (width + height) / 2\n",
    "        top = 0\n",
    "        bottom = height\n",
    "    else:\n",
    "        left = 0\n",
    "        right = width\n",
    "        top = (height - width) / 2\n",
    "        bottom = (height + width) / 2\n",
    "\n",
    "    img = img.crop((left, top, right, bottom)) # type: ignore\n",
    "    img.save(f\"modified_images/{row[1]}.jpg\")"
   ]
  },
  {
   "cell_type": "code",
   "execution_count": null,
   "metadata": {},
   "outputs": [],
   "source": [
    "# write as json\n",
    "import json\n",
    "import random\n",
    "\n",
    "# print(header)\n",
    "# for row in array2:\n",
    "#     print(row)\n",
    "\n",
    "# json file is an array of:\n",
    "# {\n",
    "#     name -> row[3]\n",
    "#     description -> row[4]\n",
    "#     price -> random from 1 to 100\n",
    "#     image -> \"/static/img/row[1].jpg\"\n",
    "#     category -> row[2]\n",
    "#     priceHistory -> array of float, length random from 10 to 100, value random from 1 to 100, last value must be the same as price\n",
    "# }\n",
    "\n",
    "json_array = []\n",
    "\n",
    "for row in array2:\n",
    "    priceHistory = [random.randint(1, 100) for _ in range(random.randint(10, 100))]\n",
    "    json_array.append({\n",
    "        \"name\": row[3],\n",
    "        \"description\": row[4],\n",
    "        \"price\": priceHistory[-1],\n",
    "        \"image\": f\"/static/img/{row[1]}.jpg\",\n",
    "        # \"category\": row[2],\n",
    "        \"priceHistory\": priceHistory\n",
    "    })\n",
    "\n",
    "with open(\"product_data.json\", \"w\") as f:\n",
    "    json.dump(json_array, f)"
   ]
  },
  {
   "cell_type": "code",
   "execution_count": null,
   "metadata": {},
   "outputs": [],
   "source": [
    "# Now json for category\n",
    "# {\n",
    "#     name -> row[2]\n",
    "# }\n",
    "\n",
    "json_category_set = set()\n",
    "for row in array2:\n",
    "    json_category_set.add(row[2])\n",
    "\n",
    "json_category = [{\"name\": category} for category in json_category_set]\n",
    "\n",
    "with open(\"category_data.json\", \"w\") as f:\n",
    "    json.dump(json_category, f)"
   ]
  },
  {
   "cell_type": "code",
   "execution_count": null,
   "metadata": {},
   "outputs": [],
   "source": [
    "# Now json for provider\n",
    "provider = [\n",
    "    \"Gucci\",\n",
    "    \"Chanel\",\n",
    "    \"Louis Vuitton\",\n",
    "    \"Hermes\",\n",
    "    \"Rolex\",\n",
    "    \"Cartier\",\n",
    "    \"Prada\",\n",
    "    \"Burberry\",\n",
    "    \"Tiffany & Co.\",\n",
    "    \"Dior\",\n",
    "]\n",
    "\n",
    "json_provider = [{\"name\": name} for name in provider]\n",
    "\n",
    "with open(\"provider_data.json\", \"w\") as f:\n",
    "    json.dump(json_provider, f)"
   ]
  },
  {
   "cell_type": "code",
   "execution_count": null,
   "metadata": {},
   "outputs": [],
   "source": [
    "# Make a json map row[1] to row[2]\n",
    "# {\n",
    "#     id: row[1]\n",
    "#     category: row[2]\n",
    "# }\n",
    "\n",
    "json_map = [{\"id\": row[1], \"category\": row[2]} for row in array2]\n",
    "\n",
    "with open(\"map_data.json\", \"w\") as f:\n",
    "    json.dump(json_map, f)"
   ]
  },
  {
   "cell_type": "markdown",
   "metadata": {},
   "source": [
    "# Now copy images to static folder of nginx and you are good to go.\n",
    "\n",
    "Bye bye"
   ]
  }
 ],
 "metadata": {
  "kernelspec": {
   "display_name": ".venv",
   "language": "python",
   "name": "python3"
  },
  "language_info": {
   "codemirror_mode": {
    "name": "ipython",
    "version": 3
   },
   "file_extension": ".py",
   "mimetype": "text/x-python",
   "name": "python",
   "nbconvert_exporter": "python",
   "pygments_lexer": "ipython3",
   "version": "3.12.2"
  }
 },
 "nbformat": 4,
 "nbformat_minor": 2
}
